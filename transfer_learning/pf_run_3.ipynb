{
 "cells": [
  {
   "cell_type": "markdown",
   "metadata": {},
   "source": [
    "# Transfer Learning\n",
    "\n",
    "In this notebook, you'll learn how to use pre-trained networks to solved challenging problems in computer vision. Specifically, you'll use networks trained on [ImageNet](http://www.image-net.org/) [available from torchvision](http://pytorch.org/docs/0.3.0/torchvision/models.html). \n",
    "\n",
    "ImageNet is a massive dataset with over 1 million labeled images in 1000 categories. It's used to train deep neural networks using an architecture called convolutional layers. I'm not going to get into the details of convolutional networks here, but if you want to learn more about them, please [watch this](https://www.youtube.com/watch?v=2-Ol7ZB0MmU).\n",
    "\n",
    "Once trained, these models work astonishingly well as feature detectors for images they weren't trained on. Using a pre-trained network on images not in the training set is called transfer learning. Here we'll use transfer learning to train a network that can classify our cat and dog photos with near perfect accuracy.\n",
    "\n",
    "With `torchvision.models` you can download these pre-trained networks and use them in your applications. We'll include `models` in our imports now."
   ]
  },
  {
   "cell_type": "code",
   "execution_count": 1,
   "metadata": {},
   "outputs": [],
   "source": [
    "%matplotlib inline\n",
    "%config InlineBackend.figure_format = 'retina'\n",
    "import os\n",
    "import time\n",
    "import matplotlib.pyplot as plt\n",
    "\n",
    "import torch\n",
    "from torch import nn\n",
    "from torch import optim\n",
    "import torch.nn.functional as F\n",
    "from torchvision import datasets, transforms, models"
   ]
  },
  {
   "cell_type": "markdown",
   "metadata": {},
   "source": [
    "Most of the pretrained models require the input to be 224x224 images. Also, we'll need to match the normalization used when the models were trained. Each color channel was normalized separately, the means are `[0.485, 0.456, 0.406]` and the standard deviations are `[0.229, 0.224, 0.225]`."
   ]
  },
  {
   "cell_type": "code",
   "execution_count": 2,
   "metadata": {},
   "outputs": [],
   "source": [
    "data_dir = 'CG_2'\n",
    "\n",
    "# TODO: Define transforms for the training data and testing data\n",
    "# Define a transform to normalize the data\n",
    "train_transforms = transforms.Compose([transforms.Resize((224,224)),                                      \n",
    "                                       transforms.ToTensor(),\n",
    "                                       transforms.Normalize((0.485, 0.456, 0.406), (0.229, 0.224, 0.225)),\n",
    "                                                                    \n",
    "                             ])\n",
    "\n",
    "# Define a transform to normalize the data\n",
    "test_transforms = transforms.Compose([transforms.Resize((224,224)),                                       \n",
    "                                      transforms.ToTensor(),\n",
    "                                      transforms.Normalize((0.485, 0.456, 0.406), (0.229, 0.224, 0.225)),\n",
    "                                       \n",
    "                             ])\n",
    "\n",
    "# Pass transforms in here, then run the next cell to see how the transforms look\n",
    "train_data = datasets.ImageFolder( data_dir + '/train', transform=train_transforms)\n",
    "test_data = datasets.ImageFolder(data_dir + '/test', transform=test_transforms)\n",
    "\n",
    "trainloader = torch.utils.data.DataLoader(train_data, batch_size=64, shuffle=True,num_workers=16)\n",
    "testloader = torch.utils.data.DataLoader(test_data, batch_size=32,num_workers=16)"
   ]
  },
  {
   "cell_type": "markdown",
   "metadata": {},
   "source": [
    "We can load in a model such as [DenseNet](http://pytorch.org/docs/0.3.0/torchvision/models.html#id5). Let's print out the model architecture so we can see what's going on."
   ]
  },
  {
   "cell_type": "code",
   "execution_count": 3,
   "metadata": {},
   "outputs": [],
   "source": [
    "# Create Path to save the model\n",
    "model_path=os.path.join('./models','pf_run_3')\n",
    "if not os.path.exists(model_path):\n",
    "    os.makedirs(model_path)"
   ]
  },
  {
   "cell_type": "code",
   "execution_count": 4,
   "metadata": {
    "scrolled": true
   },
   "outputs": [
    {
     "name": "stderr",
     "output_type": "stream",
     "text": [
      "Downloading: \"https://download.pytorch.org/models/vgg19_bn-c79401a0.pth\" to /home/saurav/.torch/models/vgg19_bn-c79401a0.pth\n",
      "100%|██████████| 574769405/574769405 [00:59<00:00, 9634836.88it/s] \n"
     ]
    },
    {
     "data": {
      "text/plain": [
       "VGG(\n",
       "  (features): Sequential(\n",
       "    (0): Conv2d(3, 64, kernel_size=(3, 3), stride=(1, 1), padding=(1, 1))\n",
       "    (1): BatchNorm2d(64, eps=1e-05, momentum=0.1, affine=True, track_running_stats=True)\n",
       "    (2): ReLU(inplace)\n",
       "    (3): Conv2d(64, 64, kernel_size=(3, 3), stride=(1, 1), padding=(1, 1))\n",
       "    (4): BatchNorm2d(64, eps=1e-05, momentum=0.1, affine=True, track_running_stats=True)\n",
       "    (5): ReLU(inplace)\n",
       "    (6): MaxPool2d(kernel_size=2, stride=2, padding=0, dilation=1, ceil_mode=False)\n",
       "    (7): Conv2d(64, 128, kernel_size=(3, 3), stride=(1, 1), padding=(1, 1))\n",
       "    (8): BatchNorm2d(128, eps=1e-05, momentum=0.1, affine=True, track_running_stats=True)\n",
       "    (9): ReLU(inplace)\n",
       "    (10): Conv2d(128, 128, kernel_size=(3, 3), stride=(1, 1), padding=(1, 1))\n",
       "    (11): BatchNorm2d(128, eps=1e-05, momentum=0.1, affine=True, track_running_stats=True)\n",
       "    (12): ReLU(inplace)\n",
       "    (13): MaxPool2d(kernel_size=2, stride=2, padding=0, dilation=1, ceil_mode=False)\n",
       "    (14): Conv2d(128, 256, kernel_size=(3, 3), stride=(1, 1), padding=(1, 1))\n",
       "    (15): BatchNorm2d(256, eps=1e-05, momentum=0.1, affine=True, track_running_stats=True)\n",
       "    (16): ReLU(inplace)\n",
       "    (17): Conv2d(256, 256, kernel_size=(3, 3), stride=(1, 1), padding=(1, 1))\n",
       "    (18): BatchNorm2d(256, eps=1e-05, momentum=0.1, affine=True, track_running_stats=True)\n",
       "    (19): ReLU(inplace)\n",
       "    (20): Conv2d(256, 256, kernel_size=(3, 3), stride=(1, 1), padding=(1, 1))\n",
       "    (21): BatchNorm2d(256, eps=1e-05, momentum=0.1, affine=True, track_running_stats=True)\n",
       "    (22): ReLU(inplace)\n",
       "    (23): Conv2d(256, 256, kernel_size=(3, 3), stride=(1, 1), padding=(1, 1))\n",
       "    (24): BatchNorm2d(256, eps=1e-05, momentum=0.1, affine=True, track_running_stats=True)\n",
       "    (25): ReLU(inplace)\n",
       "    (26): MaxPool2d(kernel_size=2, stride=2, padding=0, dilation=1, ceil_mode=False)\n",
       "    (27): Conv2d(256, 512, kernel_size=(3, 3), stride=(1, 1), padding=(1, 1))\n",
       "    (28): BatchNorm2d(512, eps=1e-05, momentum=0.1, affine=True, track_running_stats=True)\n",
       "    (29): ReLU(inplace)\n",
       "    (30): Conv2d(512, 512, kernel_size=(3, 3), stride=(1, 1), padding=(1, 1))\n",
       "    (31): BatchNorm2d(512, eps=1e-05, momentum=0.1, affine=True, track_running_stats=True)\n",
       "    (32): ReLU(inplace)\n",
       "    (33): Conv2d(512, 512, kernel_size=(3, 3), stride=(1, 1), padding=(1, 1))\n",
       "    (34): BatchNorm2d(512, eps=1e-05, momentum=0.1, affine=True, track_running_stats=True)\n",
       "    (35): ReLU(inplace)\n",
       "    (36): Conv2d(512, 512, kernel_size=(3, 3), stride=(1, 1), padding=(1, 1))\n",
       "    (37): BatchNorm2d(512, eps=1e-05, momentum=0.1, affine=True, track_running_stats=True)\n",
       "    (38): ReLU(inplace)\n",
       "    (39): MaxPool2d(kernel_size=2, stride=2, padding=0, dilation=1, ceil_mode=False)\n",
       "    (40): Conv2d(512, 512, kernel_size=(3, 3), stride=(1, 1), padding=(1, 1))\n",
       "    (41): BatchNorm2d(512, eps=1e-05, momentum=0.1, affine=True, track_running_stats=True)\n",
       "    (42): ReLU(inplace)\n",
       "    (43): Conv2d(512, 512, kernel_size=(3, 3), stride=(1, 1), padding=(1, 1))\n",
       "    (44): BatchNorm2d(512, eps=1e-05, momentum=0.1, affine=True, track_running_stats=True)\n",
       "    (45): ReLU(inplace)\n",
       "    (46): Conv2d(512, 512, kernel_size=(3, 3), stride=(1, 1), padding=(1, 1))\n",
       "    (47): BatchNorm2d(512, eps=1e-05, momentum=0.1, affine=True, track_running_stats=True)\n",
       "    (48): ReLU(inplace)\n",
       "    (49): Conv2d(512, 512, kernel_size=(3, 3), stride=(1, 1), padding=(1, 1))\n",
       "    (50): BatchNorm2d(512, eps=1e-05, momentum=0.1, affine=True, track_running_stats=True)\n",
       "    (51): ReLU(inplace)\n",
       "    (52): MaxPool2d(kernel_size=2, stride=2, padding=0, dilation=1, ceil_mode=False)\n",
       "  )\n",
       "  (classifier): Sequential(\n",
       "    (0): Linear(in_features=25088, out_features=4096, bias=True)\n",
       "    (1): ReLU(inplace)\n",
       "    (2): Dropout(p=0.5)\n",
       "    (3): Linear(in_features=4096, out_features=4096, bias=True)\n",
       "    (4): ReLU(inplace)\n",
       "    (5): Dropout(p=0.5)\n",
       "    (6): Linear(in_features=4096, out_features=1000, bias=True)\n",
       "  )\n",
       ")"
      ]
     },
     "execution_count": 4,
     "metadata": {},
     "output_type": "execute_result"
    }
   ],
   "source": [
    "model = models.vgg19_bn(pretrained=True)\n",
    "#model = models.im\n",
    "model"
   ]
  },
  {
   "cell_type": "markdown",
   "metadata": {},
   "source": [
    "This model is built out of two main parts, the features and the classifier. The features part is a stack of convolutional layers and overall works as a feature detector that can be fed into a classifier. The classifier part is a single fully-connected layer `(classifier): Linear(in_features=1024, out_features=1000)`. This layer was trained on the ImageNet dataset, so it won't work for our specific problem. That means we need to replace the classifier, but the features will work perfectly on their own. In general, I think about pre-trained networks as amazingly good feature detectors that can be used as the input for simple feed-forward classifiers."
   ]
  },
  {
   "cell_type": "code",
   "execution_count": 6,
   "metadata": {},
   "outputs": [],
   "source": [
    "# Freeze parameters so we don't backprop through them\n",
    "for param in model.parameters():\n",
    "    param.requires_grad = False\n",
    "\n",
    "from collections import OrderedDict\n",
    "classifier = nn.Sequential(OrderedDict([\n",
    "                          ('fc1', nn.Linear(25088, 4096)),\n",
    "                          ('relu1', nn.ReLU()),\n",
    "                          ('dropout1',nn.Dropout(p=0.5)),\n",
    "                          ('fc2', nn.Linear(4096, 1000)), \n",
    "                          ('relu2', nn.ReLU()),\n",
    "                          ('dropout2',nn.Dropout(p=0.5)),\n",
    "                          ('fc3', nn.Linear(1000, 5)),\n",
    "                          ('output', nn.LogSoftmax(dim=1))\n",
    "                          ]))\n",
    "    \n",
    "model.classifier = classifier"
   ]
  },
  {
   "cell_type": "markdown",
   "metadata": {},
   "source": [
    "With our model built, we need to train the classifier. However, now we're using a **really deep** neural network. If you try to train this on a CPU like normal, it will take a long, long time. Instead, we're going to use the GPU to do the calculations. The linear algebra computations are done in parallel on the GPU leading to 100x increased training speeds. It's also possible to train on multiple GPUs, further decreasing training time.\n",
    "\n",
    "PyTorch, along with pretty much every other deep learning framework, uses [CUDA](https://developer.nvidia.com/cuda-zone) to efficiently compute the forward and backwards passes on the GPU. In PyTorch, you move your model parameters and other tensors to the GPU memory using `model.to('cuda')`. You can move them back from the GPU with `model.to('cpu')` which you'll commonly do when you need to operate on the network output outside of PyTorch. As a demonstration of the increased speed, I'll compare how long it takes to perform a forward and backward pass with and without a GPU."
   ]
  },
  {
   "cell_type": "markdown",
   "metadata": {},
   "source": [
    "import time\n",
    "\n",
    "for device in ['cpu']:\n",
    "\n",
    "    criterion = nn.NLLLoss()\n",
    "    # Only train the classifier parameters, feature parameters are frozen\n",
    "    optimizer = optim.Adam(model.classifier.parameters(), lr=0.001)\n",
    "\n",
    "    model.to(device)\n",
    "    count=0\n",
    "    for ii, (inputs, labels) in enumerate(trainloader):\n",
    "        \n",
    "        # Move input and label tensors to the GPU\n",
    "        inputs, labels = inputs.to(device), labels.to(device)\n",
    "        start = time.time()\n",
    "\n",
    "        outputs = model.forward(inputs)\n",
    "        loss = criterion(outputs, labels)\n",
    "        loss.backward()\n",
    "        optimizer.step()\n",
    "\n",
    "        if ii==3:\n",
    "            break\n",
    "\n",
    "    time_taken = (time.time() - start)/3\n",
    "    print(\"Device = {}; Time per batch: {} seconds\".format(device,time_taken))"
   ]
  },
  {
   "cell_type": "markdown",
   "metadata": {},
   "source": [
    "You can write device agnostic code which will automatically use CUDA if it's enabled like so:\n",
    "```python\n",
    "# at beginning of the script\n",
    "device = torch.device(\"cuda:0\" if torch.cuda.is_available() else \"cpu\")\n",
    "\n",
    "...\n",
    "\n",
    "# then whenever you get a new Tensor or Module\n",
    "# this won't copy if they are already on the desired device\n",
    "input = data.to(device)\n",
    "model = MyModule(...).to(device)\n",
    "```\n",
    "\n",
    "From here, I'll let you finish training the model. The process is the same as before except now your model is much more powerful. You should get better than 95% accuracy easily.\n",
    "\n",
    ">**Exercise:** Train a pretrained models to classify the cat and dog images. Continue with the DenseNet model, or try ResNet, it's also a good model to try out first. Make sure you are only training the classifier and the parameters for the features part are frozen."
   ]
  },
  {
   "cell_type": "code",
   "execution_count": 7,
   "metadata": {},
   "outputs": [],
   "source": [
    "lr=0.0008\n",
    "criterion = nn.NLLLoss()\n",
    "optimizer = optim.Adam(model.classifier.parameters(), lr=lr)"
   ]
  },
  {
   "cell_type": "code",
   "execution_count": 8,
   "metadata": {},
   "outputs": [],
   "source": [
    "# Implement a function for the validation pass\n",
    "def validation(model, testloader, criterion):\n",
    "    test_loss = 0\n",
    "    accuracy = 0\n",
    "    for images, labels in testloader:\n",
    "\n",
    "        output = model.forward(images)\n",
    "        test_loss += criterion(output, labels).item()\n",
    "\n",
    "        ps = torch.exp(output)\n",
    "        equality = (labels.data == ps.max(dim=1)[1])\n",
    "        accuracy += equality.type(torch.FloatTensor).mean()\n",
    "    \n",
    "    return test_loss, accuracy"
   ]
  },
  {
   "cell_type": "code",
   "execution_count": 9,
   "metadata": {},
   "outputs": [],
   "source": [
    "# Save Config File\n",
    "\n",
    "def save_config(model,time_taken,file):\n",
    "    with open(file,'w') as f:\n",
    "        f.write(str(model.classifier))\n",
    "        f.write('Time Taken : {}'.format(time_taken))"
   ]
  },
  {
   "cell_type": "code",
   "execution_count": 10,
   "metadata": {},
   "outputs": [],
   "source": [
    "# Implement Visualisation & Saving it\n",
    "\n",
    "def visualize(train_loss,test_loss,image_name = 'Config.png'):\n",
    "    \n",
    "    # visualize the loss as the network trained\n",
    "    plt.plot(train_loss,label='trianing_loss')\n",
    "    plt.plot(test_loss,label='validation_loss')\n",
    "    plt.xlabel('1000\\'s of batches')\n",
    "    plt.legend()\n",
    "    plt.ylabel('loss')\n",
    "    plt.ylim(0, 7) # consistent scale\n",
    "    plt.show()\n",
    "    fig = plt.figure()\n",
    "    fig.savefig(image_name)\n"
   ]
  },
  {
   "cell_type": "code",
   "execution_count": 11,
   "metadata": {},
   "outputs": [
    {
     "name": "stdout",
     "output_type": "stream",
     "text": [
      "Epoch: 1/6..  Training Loss: 7.209..  Test Loss: 14.987..  Test Accuracy: 0.964\n",
      "Epoch: 1/6..  Training Loss: 18.232..  Test Loss: 23.126..  Test Accuracy: 0.986\n",
      "Epoch: 1/6..  Training Loss: 55.866..  Test Loss: 218.019..  Test Accuracy: 0.959\n",
      "Epoch: 1/6..  Training Loss: 68.875..  Test Loss: 183.901..  Test Accuracy: 0.986\n",
      "Epoch: 1/6..  Training Loss: 96.549..  Test Loss: 399.331..  Test Accuracy: 0.971\n",
      "Epoch: 1/6..  Training Loss: 139.983..  Test Loss: 467.738..  Test Accuracy: 0.972\n",
      "Epoch: 1/6..  Training Loss: 204.969..  Test Loss: 116.305..  Test Accuracy: 0.988\n",
      "Epoch: 1/6..  Training Loss: 154.511..  Test Loss: 195.502..  Test Accuracy: 0.987\n",
      "Epoch: 2/6..  Training Loss: 120.239..  Test Loss: 187.735..  Test Accuracy: 0.988\n",
      "Epoch: 2/6..  Training Loss: 228.030..  Test Loss: 278.093..  Test Accuracy: 0.982\n",
      "Epoch: 2/6..  Training Loss: 218.257..  Test Loss: 80.215..  Test Accuracy: 0.991\n",
      "Epoch: 2/6..  Training Loss: 202.657..  Test Loss: 56.684..  Test Accuracy: 0.990\n",
      "Epoch: 2/6..  Training Loss: 89.261..  Test Loss: 113.400..  Test Accuracy: 0.987\n",
      "Epoch: 2/6..  Training Loss: 172.198..  Test Loss: 269.856..  Test Accuracy: 0.987\n",
      "Epoch: 2/6..  Training Loss: 200.738..  Test Loss: 133.461..  Test Accuracy: 0.985\n",
      "Epoch: 2/6..  Training Loss: 332.479..  Test Loss: 112.661..  Test Accuracy: 0.986\n",
      "Epoch: 3/6..  Training Loss: 179.250..  Test Loss: 104.242..  Test Accuracy: 0.985\n",
      "Epoch: 3/6..  Training Loss: 140.343..  Test Loss: 80.622..  Test Accuracy: 0.977\n",
      "Epoch: 3/6..  Training Loss: 341.998..  Test Loss: 14.180..  Test Accuracy: 0.972\n",
      "Epoch: 3/6..  Training Loss: 85.601..  Test Loss: 0.101..  Test Accuracy: 0.973\n",
      "Epoch: 3/6..  Training Loss: 222.667..  Test Loss: 79.570..  Test Accuracy: 0.972\n",
      "Epoch: 3/6..  Training Loss: 228.508..  Test Loss: 0.108..  Test Accuracy: 0.972\n",
      "Epoch: 3/6..  Training Loss: 151.391..  Test Loss: 0.127..  Test Accuracy: 0.966\n",
      "Epoch: 3/6..  Training Loss: 36.075..  Test Loss: 0.133..  Test Accuracy: 0.959\n",
      "Epoch: 3/6..  Training Loss: 78.095..  Test Loss: 44.924..  Test Accuracy: 0.956\n",
      "Epoch: 4/6..  Training Loss: 98.321..  Test Loss: 71.571..  Test Accuracy: 0.943\n",
      "Epoch: 4/6..  Training Loss: 344.865..  Test Loss: 49.078..  Test Accuracy: 0.948\n",
      "Epoch: 4/6..  Training Loss: 121.576..  Test Loss: 0.172..  Test Accuracy: 0.948\n",
      "Epoch: 4/6..  Training Loss: 41.073..  Test Loss: 91.361..  Test Accuracy: 0.922\n",
      "Epoch: 4/6..  Training Loss: 116.168..  Test Loss: 0.223..  Test Accuracy: 0.912\n",
      "Epoch: 4/6..  Training Loss: 126.165..  Test Loss: 0.226..  Test Accuracy: 0.911\n",
      "Epoch: 4/6..  Training Loss: 39.783..  Test Loss: 0.229..  Test Accuracy: 0.912\n",
      "Epoch: 4/6..  Training Loss: 133.229..  Test Loss: 0.242..  Test Accuracy: 0.911\n",
      "Epoch: 5/6..  Training Loss: 225.880..  Test Loss: 0.286..  Test Accuracy: 0.901\n",
      "Epoch: 5/6..  Training Loss: 466.806..  Test Loss: 0.308..  Test Accuracy: 0.895\n",
      "Epoch: 5/6..  Training Loss: 14.778..  Test Loss: 0.310..  Test Accuracy: 0.894\n",
      "Epoch: 5/6..  Training Loss: 74.827..  Test Loss: 0.314..  Test Accuracy: 0.894\n",
      "Epoch: 5/6..  Training Loss: 566.710..  Test Loss: 0.285..  Test Accuracy: 0.905\n",
      "Epoch: 5/6..  Training Loss: 317.188..  Test Loss: 0.300..  Test Accuracy: 0.900\n",
      "Epoch: 5/6..  Training Loss: 167.029..  Test Loss: 0.317..  Test Accuracy: 0.892\n",
      "Epoch: 5/6..  Training Loss: 322.043..  Test Loss: 0.307..  Test Accuracy: 0.892\n",
      "Epoch: 6/6..  Training Loss: 1110.670..  Test Loss: 0.329..  Test Accuracy: 0.892\n",
      "Epoch: 6/6..  Training Loss: 734.140..  Test Loss: 0.344..  Test Accuracy: 0.891\n",
      "Epoch: 6/6..  Training Loss: 154.774..  Test Loss: 0.363..  Test Accuracy: 0.891\n",
      "Epoch: 6/6..  Training Loss: 60.887..  Test Loss: 0.388..  Test Accuracy: 0.891\n",
      "Epoch: 6/6..  Training Loss: 163.100..  Test Loss: 0.431..  Test Accuracy: 0.891\n",
      "Epoch: 6/6..  Training Loss: 0.162..  Test Loss: 0.433..  Test Accuracy: 0.890\n",
      "Epoch: 6/6..  Training Loss: 1509.285..  Test Loss: 0.427..  Test Accuracy: 0.889\n",
      "Epoch: 6/6..  Training Loss: 569.530..  Test Loss: 0.366..  Test Accuracy: 0.889\n",
      "Epoch: 6/6..  Training Loss: 45.562..  Test Loss: 0.341..  Test Accuracy: 0.889\n"
     ]
    },
    {
     "data": {
      "image/png": "[encoded data removed]",
      "text/plain": [
       "<matplotlib.figure.Figure at 0x7f295c8ce208>"
      ]
     },
     "metadata": {
      "image/png": {
       "height": 265,
       "width": 377
      }
     },
     "output_type": "display_data"
    },
    {
     "data": {
      "text/plain": [
       "<matplotlib.figure.Figure at 0x7f294524fba8>"
      ]
     },
     "metadata": {},
     "output_type": "display_data"
    }
   ],
   "source": [
    "# TODO: Train a model with a pre-trained network\n",
    "import time\n",
    "\n",
    "epoch = 6\n",
    "steps = 0\n",
    "running_loss = 0\n",
    "test_loss = 0\n",
    "accuracy = 0\n",
    "print_every =  100\n",
    "trainloss_over_time = [] # to track the loss as the network trains\n",
    "testloss_over_time = [] # to track the loss as the network trains\n",
    "start = time.time()\n",
    "for e in range(epoch):\n",
    "    model.train()\n",
    "    \n",
    "    for images, labels in trainloader :\n",
    "        steps +=1\n",
    "        \n",
    "        outputs = model.forward(images)\n",
    "        loss =  criterion(outputs,labels)\n",
    "        loss.backward()\n",
    "        optimizer.step()\n",
    "        \n",
    "        running_loss += loss.item()\n",
    "        \n",
    "        if steps % print_every == 0:\n",
    "            # Make sure network is in eval mode for inference\n",
    "            model.eval()\n",
    "            \n",
    "            # Turn off gradients for validation, saves memory and computations\n",
    "            with torch.no_grad():\n",
    "                test_loss, accuracy = validation(model, testloader, criterion)\n",
    "                trainloss_over_time.append(running_loss/1000)\n",
    "                testloss_over_time.append(test_loss/1000)\n",
    "                \n",
    "            print(\"Epoch: {}/{}.. \".format(e+1, epoch),\n",
    "                  \"Training Loss: {:.3f}.. \".format(running_loss/print_every),\n",
    "                  \"Test Loss: {:.3f}.. \".format(test_loss/len(testloader)),\n",
    "                  \"Test Accuracy: {:.3f}\".format(accuracy/len(testloader)))\n",
    "            \n",
    "            running_loss = 0\n",
    "            \n",
    "            # Make sure training is back on\n",
    "            model.train()\n",
    "    \n",
    "    torch.save(model.state_dict(),\n",
    "               os.path.join(model_path,\n",
    "                            'cg_e{}_lr_{}_loss_{:.3f}_acc_{:.3f}_config1_checkpoint.pth'.format(e+1,\n",
    "                                                                 lr,\n",
    "                                                                 test_loss/len(testloader),\n",
    "                                                                 accuracy/len(testloader))\n",
    "                            ))\n",
    "    \n",
    "end = time.time()\n",
    "time_taken = end - start\n",
    "visualize(trainloss_over_time,testloss_over_time,os.path.join(model_path,'config1.png'))\n",
    "save_config(model,time_taken,os.path.join(model_path,'config1.cfg'))"
   ]
  },
  {
   "cell_type": "code",
   "execution_count": null,
   "metadata": {},
   "outputs": [],
   "source": []
  }
 ],
 "metadata": {
  "kernelspec": {
   "display_name": "Python 3",
   "language": "python",
   "name": "python3"
  },
  "language_info": {
   "codemirror_mode": {
    "name": "ipython",
    "version": 3
   },
   "file_extension": ".py",
   "mimetype": "text/x-python",
   "name": "python",
   "nbconvert_exporter": "python",
   "pygments_lexer": "ipython3",
   "version": "3.5.1"
  }
 },
 "nbformat": 4,
 "nbformat_minor": 2
}
