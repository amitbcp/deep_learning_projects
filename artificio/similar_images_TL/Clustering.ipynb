{
 "cells": [
  {
   "cell_type": "code",
   "execution_count": 25,
   "metadata": {},
   "outputs": [],
   "source": [
    "import matplotlib\n",
    "#matplotlib.use('TkAgg')\n",
    "import numpy as np\n",
    "import matplotlib.pyplot as plt\n",
    "from sklearn.cluster import KMeans\n",
    "from sklearn.datasets.samples_generator import make_blobs\n",
    "import warnings\n",
    "import matplotlib.cbook"
   ]
  },
  {
   "cell_type": "code",
   "execution_count": 26,
   "metadata": {},
   "outputs": [],
   "source": [
    "warnings.filterwarnings(\"ignore\", category=matplotlib.cbook.mplDeprecation)\n",
    "# Create a random seed and set it to 0\n",
    "np.random.seed(42)"
   ]
  },
  {
   "cell_type": "markdown",
   "metadata": {},
   "source": [
    "# Make random clusters using blobs\n",
    "X, y = make_blobs(n_samples=5000, centers=[[2, 1], [-4, -2], [1, -4], [0, 3]], cluster_std=0.7)\n",
    "\n",
    "# Scatter plot the data to check\n",
    "plt.scatter(X[:, 0], X[:, 1], marker='.', edgecolors='white')\n",
    "plt.show()"
   ]
  },
  {
   "cell_type": "markdown",
   "metadata": {},
   "source": [
    "\"\"\" \n",
    "Set K-Means Clustering, \n",
    "n_clusters is number of clusters to form, \n",
    "k-means++ for smart way to converge faster\n",
    "n_init initializes different centroids each run and best output is shown in terms of inertia\n",
    "\"\"\""
   ]
  },
  {
   "cell_type": "code",
   "execution_count": 29,
   "metadata": {},
   "outputs": [
    {
     "data": {
      "text/plain": [
       "(7926, 100352)"
      ]
     },
     "execution_count": 29,
     "metadata": {},
     "output_type": "execute_result"
    }
   ],
   "source": [
    "X = np.load('feature_vector.npy')\n",
    "file_full_path = np.load('data_imgs.npy')\n",
    "X.shape\n",
    "#file_full_path.shape"
   ]
  },
  {
   "cell_type": "code",
   "execution_count": 30,
   "metadata": {},
   "outputs": [
    {
     "name": "stdout",
     "output_type": "stream",
     "text": [
      "[0 3 3 ... 1 3 2]\n",
      "[[ 8.5681677e-08  5.4413986e-01  9.1679633e+02 ...  2.1457672e-05\n",
      "   2.6718497e+02 -1.4305115e-06]\n",
      " [ 8.9406967e-08  1.0609343e+01  2.6572626e+02 ... -4.6491623e-05\n",
      "   5.3105951e+02  9.5367432e-06]\n",
      " [ 9.3132257e-08  1.7166481e+00  6.6990344e+02 ... -3.2186508e-05\n",
      "   2.8585162e+02  1.0585785e-04]\n",
      " [ 1.5776850e-01  8.1241119e+01  1.6695950e+02 ...  8.0570021e+00\n",
      "   5.2147607e+02  1.9743917e+01]]\n"
     ]
    },
    {
     "data": {
      "image/png": "[encoded data removed]",
      "text/plain": [
       "<matplotlib.figure.Figure at 0x7f020f233940>"
      ]
     },
     "metadata": {},
     "output_type": "display_data"
    }
   ],
   "source": [
    "k_means = KMeans(init=\"k-means++\", n_clusters=4, n_init=12)\n",
    "\n",
    "# Fit KMeans model with feature matrix, X\n",
    "k_means.fit(X)\n",
    "\n",
    "# Grab the labels for each point in the model\n",
    "k_means_labels = k_means.labels_\n",
    "print(k_means_labels)\n",
    "\n",
    "# Get the coordinates of the cluster centers\n",
    "k_means_cluster_centers = k_means.cluster_centers_\n",
    "print(k_means_cluster_centers)\n",
    "\n",
    "# Visualize the Plot\n",
    "# Initialize plot with the specified dimensions.\n",
    "fig = plt.figure(figsize=(8, 5))\n",
    "\n",
    "# Colors uses a color map, which will produce an array of colors based on the number of labels there are.\n",
    "colors = plt.get_cmap('Spectral')(np.linspace(0, 1, len(set(k_means_labels))))\n",
    "\n",
    "# Create a plot with a black background for better visibility\n",
    "ax = fig.add_subplot(1, 1, 1, facecolor='black')"
   ]
  },
  {
   "cell_type": "code",
   "execution_count": 11,
   "metadata": {},
   "outputs": [],
   "source": []
  },
  {
   "cell_type": "code",
   "execution_count": 24,
   "metadata": {},
   "outputs": [
    {
     "data": {
      "text/plain": [
       "array([[-3.88804228, -2.2466221 ],\n",
       "       [-3.84814217, -1.44652067],\n",
       "       [-3.19210232, -2.10687937],\n",
       "       ...,\n",
       "       [ 1.55720751, -3.45091853],\n",
       "       [ 1.72595748,  2.23769707],\n",
       "       [-3.1740257 , -2.8148918 ]])"
      ]
     },
     "execution_count": 24,
     "metadata": {},
     "output_type": "execute_result"
    }
   ],
   "source": [
    "X"
   ]
  },
  {
   "cell_type": "code",
   "execution_count": 14,
   "metadata": {},
   "outputs": [
    {
     "name": "stdout",
     "output_type": "stream",
     "text": [
      "<class 'numpy.ndarray'>\n"
     ]
    }
   ],
   "source": [
    "print(type(k_means_labels))"
   ]
  },
  {
   "cell_type": "code",
   "execution_count": 31,
   "metadata": {},
   "outputs": [
    {
     "data": {
      "text/plain": [
       "array([0, 3, 3, ..., 1, 3, 2], dtype=int32)"
      ]
     },
     "execution_count": 31,
     "metadata": {},
     "output_type": "execute_result"
    }
   ],
   "source": [
    "k_means_labels"
   ]
  },
  {
   "cell_type": "code",
   "execution_count": 33,
   "metadata": {},
   "outputs": [
    {
     "ename": "TypeError",
     "evalue": "iteration over a 0-d array",
     "output_type": "error",
     "traceback": [
      "\u001b[0;31m---------------------------------------------------------------------------\u001b[0m",
      "\u001b[0;31mTypeError\u001b[0m                                 Traceback (most recent call last)",
      "\u001b[0;32m<ipython-input-33-65ca2cf4f3f2>\u001b[0m in \u001b[0;36m<module>\u001b[0;34m()\u001b[0m\n\u001b[0;32m----> 1\u001b[0;31m \u001b[0;32mfor\u001b[0m \u001b[0midx\u001b[0m\u001b[0;34m,\u001b[0m\u001b[0mlabel\u001b[0m \u001b[0;32min\u001b[0m \u001b[0mnp\u001b[0m\u001b[0;34m.\u001b[0m\u001b[0mnditer\u001b[0m\u001b[0;34m(\u001b[0m\u001b[0mk_means_labels\u001b[0m\u001b[0;34m)\u001b[0m\u001b[0;34m:\u001b[0m\u001b[0;34m\u001b[0m\u001b[0m\n\u001b[0m\u001b[1;32m      2\u001b[0m     \u001b[0mprint\u001b[0m\u001b[0;34m(\u001b[0m\u001b[0mlabel\u001b[0m\u001b[0;34m)\u001b[0m\u001b[0;34m\u001b[0m\u001b[0m\n",
      "\u001b[0;31mTypeError\u001b[0m: iteration over a 0-d array"
     ]
    }
   ],
   "source": [
    "for label in np.nditer(k_means_labels):\n",
    "    print(label)"
   ]
  },
  {
   "cell_type": "code",
   "execution_count": null,
   "metadata": {},
   "outputs": [],
   "source": []
  }
 ],
 "metadata": {
  "kernelspec": {
   "display_name": "Python 3",
   "language": "python",
   "name": "python3"
  },
  "language_info": {
   "codemirror_mode": {
    "name": "ipython",
    "version": 3
   },
   "file_extension": ".py",
   "mimetype": "text/x-python",
   "name": "python",
   "nbconvert_exporter": "python",
   "pygments_lexer": "ipython3",
   "version": "3.5.1"
  }
 },
 "nbformat": 4,
 "nbformat_minor": 2
}
