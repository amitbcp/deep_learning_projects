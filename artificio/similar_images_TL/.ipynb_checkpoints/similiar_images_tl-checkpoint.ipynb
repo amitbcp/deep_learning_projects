{
 "cells": [
  {
   "cell_type": "code",
   "execution_count": 1,
   "metadata": {},
   "outputs": [
    {
     "data": {
      "text/plain": [
       "'\\n\\n similar_images_TL.py  (author: Anson Wong / git: ankonzoid)\\n\\n We find similar images in a database by using transfer learning\\n via a pre-trained VGG image classifier. We plot the 5 most similar\\n images for each image in the database, and plot the tSNE for all\\n our image feature vectors.\\n\\n'"
      ]
     },
     "execution_count": 1,
     "metadata": {},
     "output_type": "execute_result"
    }
   ],
   "source": [
    "\"\"\"\n",
    "\n",
    " similar_images_TL.py  (author: Anson Wong / git: ankonzoid)\n",
    "\n",
    " We find similar images in a database by using transfer learning\n",
    " via a pre-trained VGG image classifier. We plot the 5 most similar\n",
    " images for each image in the database, and plot the tSNE for all\n",
    " our image feature vectors.\n",
    "\n",
    "\"\"\""
   ]
  },
  {
   "cell_type": "code",
   "execution_count": 4,
   "metadata": {},
   "outputs": [],
   "source": [
    "import sys, os\n",
    "import numpy as np\n",
    "from keras.preprocessing import image\n",
    "from keras.models import Model\n",
    "sys.path.append(\"src\")\n",
    "\n",
    "from vgg19 import VGG19\n",
    "from imagenet_utils import preprocess_input\n",
    "from plot_utils import plot_query_answer\n",
    "from sort_utils import find_topk_unique\n",
    "from kNN import kNN\n",
    "from tSNE import plot_tsne\n",
    "\n",
    "import shutil"
   ]
  },
  {
   "cell_type": "code",
   "execution_count": 5,
   "metadata": {},
   "outputs": [
    {
     "name": "stdout",
     "output_type": "stream",
     "text": [
      "Loading VGG19 pre-trained model...\n",
      "Downloading data from https://github.com/fchollet/deep-learning-models/releases/download/v0.1/vgg19_weights_tf_dim_ordering_tf_kernels.h5\n",
      "574717952/574710816 [==============================] - 629s 1us/step\n"
     ]
    },
    {
     "name": "stderr",
     "output_type": "stream",
     "text": [
      "c:\\users\\amita\\appdata\\local\\programs\\python\\python36\\lib\\site-packages\\ipykernel_launcher.py:7: UserWarning: Update your `Model` call to the Keras 2 API: `Model(inputs=Tensor(\"in..., outputs=Tensor(\"bl...)`\n",
      "  import sys\n"
     ]
    }
   ],
   "source": [
    "# ================================================\n",
    "# Load pre-trained model and remove higher level layers\n",
    "# ================================================\n",
    "print(\"Loading VGG19 pre-trained model...\")\n",
    "base_model = VGG19(weights='imagenet')\n",
    "model = Model(input=base_model.input,\n",
    "              output=base_model.get_layer('block4_pool').output)"
   ]
  },
  {
   "cell_type": "code",
   "execution_count": 6,
   "metadata": {},
   "outputs": [
    {
     "name": "stdout",
     "output_type": "stream",
     "text": [
      "Reading images from 'db' directory...\n",
      "\n"
     ]
    }
   ],
   "source": [
    "# ================================================\n",
    "# RAW DATA : Read images and convert them to feature vectors \n",
    "# ================================================\n",
    "imgs, filename_heads, X, file_full_path = [], [], [], []\n",
    "path = \"db\"\n",
    "print(\"Reading images from '{}' directory...\\n\".format(path))\n",
    "for f in os.listdir(path):\n",
    "    #print(f)\n",
    "    # Process filename\n",
    "    filename = os.path.splitext(f)  # filename in directory\n",
    "    filename_full = os.path.join(path,f)  # full path filename\n",
    "    file_full_path.append(filename_full)\n",
    "    head, ext = filename[0], filename[1]\n",
    "    if ext.lower() not in [\".jpg\", \".jpeg\"]:\n",
    "        continue\n",
    "\n",
    "    # Read image file\n",
    "    img = image.load_img(filename_full, target_size=(224, 224))  # load\n",
    "    imgs.append(np.array(img))  # image List\n",
    "    filename_heads.append(head)  # filename head list\n",
    "\n",
    "    # Pre-process for model input\n",
    "    img = image.img_to_array(img)  # convert to array\n",
    "    img = np.expand_dims(img, axis=0)\n",
    "    img = preprocess_input(img)\n",
    "    features = model.predict(img).flatten()  # features\n",
    "    X.append(features)  # append feature extractor\n",
    "    np.save('feature_vector',X)\n",
    "    np.save('data_imgs',file_full_path)"
   ]
  },
  {
   "cell_type": "code",
   "execution_count": 7,
   "metadata": {},
   "outputs": [],
   "source": [
    "# ================================================\n",
    "# QUERY IMAGES : Read images and convert them to feature vectors \n",
    "# ================================================\n",
    "\n",
    "def query_images(path='query_images') :\n",
    "\n",
    "    query_features,query_img = [], []\n",
    "    print(\"Reading images from '{}' directory...\\n\".format(path))\n",
    "    for f in os.listdir(path):\n",
    "        #print(f)\n",
    "        # Process filename\n",
    "        filename = os.path.splitext(f)  # filename in directory\n",
    "        filename_full = os.path.join(path,f)  # full path filename\n",
    "        query_img.append(filename_full)\n",
    "        head, ext = filename[0], filename[1]\n",
    "        if ext.lower() not in [\".jpg\", \".jpeg\"]:\n",
    "            continue\n",
    "\n",
    "        # Read image file\n",
    "        img = image.load_img(filename_full, target_size=(224, 224))  # load\n",
    "        #imgs.append(np.array(img))  # image List\n",
    "        #filename_heads.append(head)  # filename head list\n",
    "\n",
    "        # Pre-process for model input\n",
    "        img = image.img_to_array(img)  # convert to array\n",
    "        img = np.expand_dims(img, axis=0)\n",
    "        img = preprocess_input(img)\n",
    "        features = model.predict(img).flatten()  # features\n",
    "        query_features.append(features)  # append feature extractor\n",
    "\n",
    "    query_features = np.array(query_features)\n",
    "    \n",
    "    return query_features, query_img"
   ]
  },
  {
   "cell_type": "code",
   "execution_count": 8,
   "metadata": {},
   "outputs": [
    {
     "name": "stdout",
     "output_type": "stream",
     "text": [
      "imgs.shape = (39, 224, 224, 3)\n",
      "X_features.shape = (39, 100352)\n",
      "\n"
     ]
    }
   ],
   "source": [
    "X = np.array(X)  # feature vectors\n",
    "imgs = np.array(imgs)  # images\n",
    "print(\"imgs.shape = {}\".format(imgs.shape))\n",
    "print(\"X_features.shape = {}\\n\".format(X.shape))"
   ]
  },
  {
   "cell_type": "code",
   "execution_count": 15,
   "metadata": {},
   "outputs": [],
   "source": [
    "# ===========================\n",
    "# Find k-nearest images to each image\n",
    "# ===========================\n",
    "n_neighbours = 2 + 1  # +1 as itself is most similar\n",
    "knn = kNN()  # kNN model\n",
    "knn.compile(n_neighbors=n_neighbours, algorithm=\"brute\", metric=\"cosine\")\n",
    "knn.fit(X)"
   ]
  },
  {
   "cell_type": "code",
   "execution_count": 32,
   "metadata": {},
   "outputs": [
    {
     "name": "stdout",
     "output_type": "stream",
     "text": [
      "Reading images from 'query_images' directory...\n",
      "\n",
      "Query_features.shape = (3, 100352)\n",
      "\n"
     ]
    }
   ],
   "source": [
    "query_features,query_img = query_images()\n",
    "print(\"Query_features.shape = {}\\n\".format(query_features.shape))\n",
    "nearest_test = 'query_similar_images'"
   ]
  },
  {
   "cell_type": "code",
   "execution_count": 35,
   "metadata": {},
   "outputs": [],
   "source": [
    "#n_neighbours = 20\n",
    "for index,img in enumerate(query_img) :\n",
    "    \n",
    "    distances, indices = knn.predict(np.array([query_features[index]]))\n",
    "    distances = distances.flatten()\n",
    "    indices = indices.flatten()\n",
    "    indices, distances = find_topk_unique(indices, distances, n_neighbours)\n",
    "    #print(\"Nearest Neighbours index : {} \".format(indices))\n",
    "    query, ext = os.path.splitext(os.path.basename(img))\n",
    "    output_path = os.path.join(nearest_test,query)\n",
    "    \n",
    "    if not os.path.exists(output_path) :\n",
    "        os.makedirs(output_path)\n",
    "\n",
    "    for idx in  np.nditer(indices) :\n",
    "        #print(\"File Name : {} ; Index : {}\".format(query_img[idx],idx))\n",
    "        shutil.copy(file_full_path[idx],output_path)\n",
    "        #break\n",
    "    #break"
   ]
  },
  {
   "cell_type": "code",
   "execution_count": null,
   "metadata": {},
   "outputs": [],
   "source": []
  }
 ],
 "metadata": {
  "kernelspec": {
   "display_name": "Python 3",
   "language": "python",
   "name": "python3"
  },
  "language_info": {
   "codemirror_mode": {
    "name": "ipython",
    "version": 3
   },
   "file_extension": ".py",
   "mimetype": "text/x-python",
   "name": "python",
   "nbconvert_exporter": "python",
   "pygments_lexer": "ipython3",
   "version": "3.6.4"
  }
 },
 "nbformat": 4,
 "nbformat_minor": 2
}
