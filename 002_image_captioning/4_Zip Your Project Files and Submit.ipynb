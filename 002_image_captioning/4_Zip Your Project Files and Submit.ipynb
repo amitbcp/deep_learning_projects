{
 "cells": [
  {
   "cell_type": "code",
   "execution_count": 1,
   "metadata": {},
   "outputs": [
    {
     "name": "stdout",
     "output_type": "stream",
     "text": [
      "[NbConvertApp] Converting notebook 2_Training.ipynb to html\n",
      "[NbConvertApp] Writing 304176 bytes to 2_Training.html\n",
      "[NbConvertApp] Converting notebook 3_Inference.ipynb to html\n",
      "[NbConvertApp] Writing 1354695 bytes to 3_Inference.html\n"
     ]
    }
   ],
   "source": [
    "!jupyter nbconvert \"2_Training.ipynb\"\n",
    "!jupyter nbconvert \"3_Inference.ipynb\""
   ]
  },
  {
   "cell_type": "code",
   "execution_count": null,
   "metadata": {},
   "outputs": [],
   "source": []
  }
 ],
 "metadata": {
  "anaconda-cloud": {},
  "kernelspec": {
   "display_name": "Python 3",
   "language": "python",
   "name": "python3"
  },
  "language_info": {
   "codemirror_mode": {
    "name": "ipython",
    "version": 3
   },
   "file_extension": ".py",
   "mimetype": "text/x-python",
   "name": "python",
   "nbconvert_exporter": "python",
   "pygments_lexer": "ipython3",
   "version": "3.5.1"
  }
 },
 "nbformat": 4,
 "nbformat_minor": 2
}
