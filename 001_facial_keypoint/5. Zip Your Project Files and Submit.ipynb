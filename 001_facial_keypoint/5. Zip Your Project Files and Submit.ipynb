{
 "cells": [
  {
   "cell_type": "code",
   "execution_count": 1,
   "metadata": {},
   "outputs": [
    {
     "name": "stderr",
     "output_type": "stream",
     "text": [
      "[NbConvertApp] Converting notebook 2. Define the Network Architecture.ipynb to html\n",
      "[NbConvertApp] Writing 1080938 bytes to 2. Define the Network Architecture.html\n",
      "[NbConvertApp] Converting notebook 3. Facial Keypoint Detection, Complete Pipeline.ipynb to html\n",
      "[NbConvertApp] Writing 1037484 bytes to 3. Facial Keypoint Detection, Complete Pipeline.html\n"
     ]
    }
   ],
   "source": [
    "!jupyter nbconvert \"2. Define the Network Architecture.ipynb\"\n",
    "!jupyter nbconvert \"3. Facial Keypoint Detection, Complete Pipeline.ipynb\""
   ]
  },
  {
   "cell_type": "code",
   "execution_count": 2,
   "metadata": {},
   "outputs": [
    {
     "name": "stderr",
     "output_type": "stream",
     "text": [
      "'zip' is not recognized as an internal or external command,\n",
      "operable program or batch file.\n"
     ]
    }
   ],
   "source": [
    "!zip project1.zip -r . -i@filelist.txt"
   ]
  },
  {
   "cell_type": "code",
   "execution_count": null,
   "metadata": {},
   "outputs": [],
   "source": []
  }
 ],
 "metadata": {
  "kernelspec": {
   "display_name": "Python 3",
   "language": "python",
   "name": "python3"
  },
  "language_info": {
   "codemirror_mode": {
    "name": "ipython",
    "version": 3
   },
   "file_extension": ".py",
   "mimetype": "text/x-python",
   "name": "python",
   "nbconvert_exporter": "python",
   "pygments_lexer": "ipython3",
   "version": "3.6.4"
  }
 },
 "nbformat": 4,
 "nbformat_minor": 2
}
